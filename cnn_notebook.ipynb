{
 "cells": [
  {
   "cell_type": "code",
   "execution_count": 15,
   "id": "aa7288fa",
   "metadata": {},
   "outputs": [],
   "source": [
    "import keras\n",
    "import numpy as np\n",
    "from PIL import Image\n",
    "from numpy import asarray"
   ]
  },
  {
   "cell_type": "code",
   "execution_count": 16,
   "id": "15f053cc",
   "metadata": {},
   "outputs": [],
   "source": [
    "MODEL = keras.models.load_model(\"models/digit_predicter_cnn\")"
   ]
  },
  {
   "cell_type": "code",
   "execution_count": 17,
   "id": "d08e0c37",
   "metadata": {},
   "outputs": [],
   "source": [
    "def predict(name):\n",
    "    image = Image.open(name)\n",
    "    image =  image.resize((28, 28))\n",
    "    image = image.convert('L')\n",
    "    image = asarray(image).reshape(28, 28, 1) / 255\n",
    "    image = np.array([image])\n",
    "    prediction = MODEL.predict(image).argmax()\n",
    "    probability = MODEL.predict(image)[0][prediction]\n",
    "    return prediction, probability"
   ]
  },
  {
   "cell_type": "code",
   "execution_count": 18,
   "id": "c0c45a71",
   "metadata": {},
   "outputs": [
    {
     "data": {
      "text/plain": [
       "(2, 1.0)"
      ]
     },
     "execution_count": 18,
     "metadata": {},
     "output_type": "execute_result"
    }
   ],
   "source": [
    "predict('screenshot.jpg')"
   ]
  },
  {
   "cell_type": "code",
   "execution_count": 19,
   "id": "55f666c6",
   "metadata": {},
   "outputs": [],
   "source": [
    "MODEL = keras.models.load_model(\"models/digit_predicter_ann\")"
   ]
  },
  {
   "cell_type": "code",
   "execution_count": 57,
   "id": "81122fe4",
   "metadata": {},
   "outputs": [],
   "source": [
    "def predict2(name):\n",
    "    image = Image.open(name)\n",
    "    image = image.resize((784, 1))\n",
    "    image = image.convert('L')\n",
    "    image = asarray(image) / 255\n",
    "    image = pd.DataFrame(image)\n",
    "    prediction = MODEL.predict(image).argmax()\n",
    "    probability = MODEL.predict(image)[0][prediction]\n",
    "    return prediction, probability"
   ]
  },
  {
   "cell_type": "code",
   "execution_count": null,
   "id": "bf88403e",
   "metadata": {},
   "outputs": [],
   "source": []
  },
  {
   "cell_type": "code",
   "execution_count": 58,
   "id": "b7af1936",
   "metadata": {},
   "outputs": [
    {
     "data": {
      "text/plain": [
       "(2, 0.9999999)"
      ]
     },
     "execution_count": 58,
     "metadata": {},
     "output_type": "execute_result"
    }
   ],
   "source": [
    "predict2('screenshot.jpg')"
   ]
  },
  {
   "cell_type": "code",
   "execution_count": 61,
   "id": "72a0bad0",
   "metadata": {},
   "outputs": [],
   "source": [
    "image = Image.open(\"screenshot.jpg\")\n",
    "image = image.resize((28, 28))\n",
    "image = image.convert('L')"
   ]
  },
  {
   "cell_type": "code",
   "execution_count": 66,
   "id": "5e74ff17",
   "metadata": {},
   "outputs": [
    {
     "data": {
      "image/png": "[encoded data removed]",
      "text/plain": [
       "<Figure size 432x288 with 1 Axes>"
      ]
     },
     "metadata": {
      "needs_background": "light"
     },
     "output_type": "display_data"
    }
   ],
   "source": [
    "import matplotlib.pyplot as plt\n",
    "plt.imshow(image)\n",
    "plt.axis('off');"
   ]
  },
  {
   "cell_type": "code",
   "execution_count": null,
   "id": "55980ab3",
   "metadata": {},
   "outputs": [],
   "source": []
  }
 ],
 "metadata": {
  "kernelspec": {
   "display_name": "Python 3",
   "language": "python",
   "name": "python3"
  },
  "language_info": {
   "codemirror_mode": {
    "name": "ipython",
    "version": 3
   },
   "file_extension": ".py",
   "mimetype": "text/x-python",
   "name": "python",
   "nbconvert_exporter": "python",
   "pygments_lexer": "ipython3",
   "version": "3.8.8"
  }
 },
 "nbformat": 4,
 "nbformat_minor": 5
}
